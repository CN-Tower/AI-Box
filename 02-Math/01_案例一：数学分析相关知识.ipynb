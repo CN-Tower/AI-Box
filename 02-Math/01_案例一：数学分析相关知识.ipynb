{
 "cells": [
  {
   "cell_type": "markdown",
   "metadata": {},
   "source": [
    "## PI的求解"
   ]
  },
  {
   "cell_type": "code",
   "execution_count": 1,
   "metadata": {
    "collapsed": true
   },
   "outputs": [],
   "source": [
    "import numpy as np\n",
    "import matplotlib as mpl\n",
    "import matplotlib.pyplot as plt\n",
    "import math\n",
    "from mpl_toolkits.mplot3d import Axes3D"
   ]
  },
  {
   "cell_type": "code",
   "execution_count": null,
   "metadata": {
    "collapsed": true
   },
   "outputs": [],
   "source": [
    "# 设置在jupyter中matplotlib的显示情况\n",
    "%matplotlib tk"
   ]
  },
  {
   "cell_type": "code",
   "execution_count": 3,
   "metadata": {
    "collapsed": true
   },
   "outputs": [],
   "source": [
    "# 解决中文显示问题\n",
    "mpl.rcParams['font.sans-serif'] = [u'SimHei']\n",
    "mpl.rcParams['axes.unicode_minus'] = False"
   ]
  },
  {
   "cell_type": "code",
   "execution_count": 4,
   "metadata": {
    "collapsed": true
   },
   "outputs": [],
   "source": [
    "import numpy as np\n",
    "def pi(n, i = 0, m = 0.0):\n",
    "    if n == i:\n",
    "        return m + 1.0 * np.power(-1, i) / (2 * i + 1)\n",
    "    else:\n",
    "        return pi(n, i+1, m + 1.0 * np.power(-1, i) / (2 * i + 1))"
   ]
  },
  {
   "cell_type": "code",
   "execution_count": 9,
   "metadata": {},
   "outputs": [
    {
     "data": {
      "text/plain": [
       "0.78787335026774785"
      ]
     },
     "execution_count": 9,
     "metadata": {},
     "output_type": "execute_result"
    }
   ],
   "source": [
    "pi(100)"
   ]
  },
  {
   "cell_type": "code",
   "execution_count": 6,
   "metadata": {
    "collapsed": true
   },
   "outputs": [],
   "source": [
    "x = np.arange(0.05, 3, 0.05)\n",
    "y2 = [math.pow(2, i) for i in x]\n",
    "y3 = [math.log(i, 2) for i in x]\n",
    "plt.plot(x, y2, linewidth=2, color='g', label='$2^x$')\n",
    "plt.plot(x, y3, linewidth=2, color='r', label='$log2(x)$')\n",
    "plt.plot([1], [0], 'ro')\n",
    "plt.legend(loc='lower right')\n",
    "plt.xlim(0, 3)\n",
    "plt.grid(True)\n",
    "plt.show()"
   ]
  },
  {
   "cell_type": "code",
   "execution_count": 8,
   "metadata": {
    "collapsed": true
   },
   "outputs": [],
   "source": [
    "x = np.arange(-10, 11, 0.5)\n",
    "y2 = [math.pow(i, 2) for i in x]\n",
    "plt.plot(x, y2, linewidth=2, color='g', label='$y=x^2$')\n",
    "plt.plot([1], [0], 'ro')\n",
    "plt.legend(loc='lower right')\n",
    "plt.xlim(-10, 10)\n",
    "plt.grid(True)\n",
    "plt.show()"
   ]
  },
  {
   "cell_type": "code",
   "execution_count": 7,
   "metadata": {
    "collapsed": true
   },
   "outputs": [],
   "source": [
    "x = np.arange(0.05, 3, 0.05)\n",
    "y1 = [math.log(i, 0.5) for i in x]\n",
    "y2 = [math.log(i, math.e) for i in x]\n",
    "y3 = [math.log(i, 5) for i in x]\n",
    "y4 = [math.log(i, 10) for i in x]\n",
    "plt.plot(x, y1, linewidth=2, color='y', label='log0.5(x)')\n",
    "plt.plot(x, y2, linewidth=2, color='b', label='loge(x)')\n",
    "plt.plot(x, y3, linewidth=2, color='g', label='log5(x)')\n",
    "plt.plot(x, y4, linewidth=2, color='r', label='log10(x)')\n",
    "plt.plot([1,1], [-3, 5], '--', color='#999999', linewidth=2)\n",
    "plt.legend(loc='lower right')\n",
    "plt.xlim(0, 3)\n",
    "plt.grid(True)\n",
    "plt.show()"
   ]
  },
  {
   "cell_type": "code",
   "execution_count": 8,
   "metadata": {
    "collapsed": true
   },
   "outputs": [],
   "source": [
    "x = np.arange(-2, 2, 0.05)\n",
    "y1 = [math.pow(0.5, i) for i in x]\n",
    "y2 = [math.pow(math.e, i) for i in x]\n",
    "y3 = [math.pow(5, i) for i in x]\n",
    "plt.plot(x, y1, linewidth=2, color='r', label='$0.5^x$')\n",
    "plt.plot(x, y2, linewidth=2, color='g', label='math.e^x')\n",
    "plt.plot(x, y3, linewidth=2, color='b', label='5^x')\n",
    "plt.plot([0], [1], 'o', color='#999999', linewidth=2)\n",
    "plt.legend(loc='upper left')\n",
    "plt.xlim(-2, 2)\n",
    "plt.grid(True)\n",
    "plt.show()"
   ]
  },
  {
   "cell_type": "code",
   "execution_count": 10,
   "metadata": {},
   "outputs": [
    {
     "name": "stdout",
     "output_type": "stream",
     "text": [
      "-0.20311401357501202\n",
      "-0.20311401357501224\n"
     ]
    }
   ],
   "source": [
    "print (math.log(4, 3) - math.log(5,3))\n",
    "print (math.log(4.0/5, 3))"
   ]
  },
  {
   "cell_type": "markdown",
   "metadata": {},
   "source": [
    "## 导数"
   ]
  },
  {
   "cell_type": "code",
   "execution_count": 10,
   "metadata": {
    "collapsed": true
   },
   "outputs": [],
   "source": [
    "def f(x):\n",
    "    return 3 * math.pow(x, 2) + 5 * x + 8\n",
    "\n",
    "def h(x):\n",
    "    return 6*x + 5\n",
    "x = np.arange(-4, 2.4, 0.05)\n",
    "y = [f(i) for i in x]\n",
    "y2 = [h(i) for i in x]\n",
    "plt.plot(x, y, linewidth=2, color='r', label='$f(x)=3*x^2 + 5*x+8$')\n",
    "plt.plot(x, y2, linewidth=2, color='g', label='$dy/dx=6*x+5$')\n",
    "plt.plot([-5.0/6, -5.0/6], [-20, 40], '--', color='#666666')\n",
    "plt.legend(loc='lower right')\n",
    "plt.grid(True)\n",
    "plt.show()\n"
   ]
  },
  {
   "cell_type": "code",
   "execution_count": 12,
   "metadata": {
    "collapsed": true
   },
   "outputs": [],
   "source": [
    "def f(x):\n",
    "    return math.sin(x)\n",
    "\n",
    "def h(x):\n",
    "    return math.cos(x)\n",
    "\n",
    "def g(x):\n",
    "    a = math.sin(x)\n",
    "    return a * -1\n",
    "\n",
    "x = np.arange(-5, 5, 0.05)\n",
    "y = [f(i) for i in x]\n",
    "y2 = [h(i) for i in x]\n",
    "y3 = [g(i) for i in x]\n",
    "plt.plot(x, y, linewidth=2, color='r', label=u'函数y=sin(x)')\n",
    "plt.plot(x, y2, linewidth=2, color='g', label=u'一阶导数y=cos(x)')\n",
    "plt.plot(x, y3, linewidth=2, color='b', label=u'二阶导数y=-sin(x)')\n",
    "plt.plot([-5, 5], [0, 0], '--', color='#666666')\n",
    "plt.legend(loc='lower right')\n",
    "plt.grid(True)\n",
    "plt.show()\n"
   ]
  },
  {
   "cell_type": "code",
   "execution_count": 13,
   "metadata": {
    "collapsed": true
   },
   "outputs": [],
   "source": [
    "def f1(x):\n",
    "    return math.pow(x, 2) - 2\n",
    "def f2(x):\n",
    "    return -1 * x * x + 2\n",
    "\n",
    "x = np.arange(-2, 2, 0.05)\n",
    "y1 = [f1(i) for i in x]\n",
    "y2 = [f2(i) for i in x]\n",
    "\n",
    "plt.plot(x, y1, linewidth=2, color='r', label=u'凸函数$y=x^2 - 2$')\n",
    "plt.plot(x, y2, linewidth=2, color='g', label=u'凹函数$y=-x^2 + 2$')\n",
    "plt.legend(loc='upper right')\n",
    "plt.grid(True)\n",
    "plt.show()"
   ]
  },
  {
   "cell_type": "code",
   "execution_count": 14,
   "metadata": {
    "collapsed": true
   },
   "outputs": [],
   "source": [
    "fig = plt.figure()\n",
    "ax = fig.add_subplot(111)\n",
    "u = np.linspace(0, 4, 100)\n",
    "x, y = np.meshgrid(u, u)\n",
    "z = -1 * np.log(np.exp(x) + np.exp(y))\n",
    "ax.contourf(x, y, z, 4)\n",
    "plt.show()"
   ]
  },
  {
   "cell_type": "markdown",
   "metadata": {},
   "source": [
    "## 梯度"
   ]
  },
  {
   "cell_type": "code",
   "execution_count": 13,
   "metadata": {},
   "outputs": [
    {
     "name": "stdout",
     "output_type": "stream",
     "text": [
      "最终结果为: (9.353610478917782e-06, 9.353610478917782e-06)\n"
     ]
    }
   ],
   "source": [
    "## 原函数\n",
    "def f(x, y):\n",
    "    return x ** 2 + y ** 2\n",
    "## 偏函数\n",
    "def h(t):\n",
    "    return 2 * t\n",
    "\n",
    "X = []\n",
    "Y = []\n",
    "Z = []\n",
    "\n",
    "x = 2\n",
    "y = 2\n",
    "f_change = x ** 2 + y ** 2\n",
    "f_current = f(x, y)\n",
    "step = 0.1\n",
    "X.append(x)\n",
    "Y.append(y)\n",
    "Z.append(f_current)\n",
    "while f_change > 1e-10:\n",
    "    x = x - step * h(x)\n",
    "    y = y - step * h(y)\n",
    "    f_change = f_current - f(x, y)\n",
    "    f_current = f(x, y)\n",
    "    X.append(x)\n",
    "    Y.append(y)\n",
    "    Z.append(f_current)\n",
    "print (u\"最终结果为:\", (x, y))"
   ]
  },
  {
   "cell_type": "code",
   "execution_count": 14,
   "metadata": {
    "collapsed": true
   },
   "outputs": [],
   "source": [
    "fig = plt.figure()\n",
    "ax = Axes3D(fig)\n",
    "X2 = np.arange(-2, 2, 0.2)\n",
    "Y2 = np.arange(-2, 2, 0.2)\n",
    "X2, Y2 = np.meshgrid(X2, Y2)\n",
    "Z2 = X2 ** 2 + Y2 ** 2\n",
    "\n",
    "ax.plot_surface(X2, Y2, Z2, rstride=1, cstride=1, cmap='rainbow')\n",
    "ax.plot(X, Y, Z, 'ro--')\n",
    "\n",
    "ax.set_title(u'梯度下降法求解, 最终解为: x=%.2f, y=%.2f, z=%.2f' % (x, y, f_current))\n",
    "\n",
    "plt.show()"
   ]
  },
  {
   "cell_type": "code",
   "execution_count": 17,
   "metadata": {},
   "outputs": [
    {
     "name": "stdout",
     "output_type": "stream",
     "text": [
      "最终结果为: (-5.686057605985963e-06, 3.233125109859082e-11)\n"
     ]
    }
   ],
   "source": [
    "## 原函数\n",
    "def f(x):\n",
    "    return x ** 2\n",
    "## 导数\n",
    "def h(x):\n",
    "    return 2 * x\n",
    "\n",
    "X = []\n",
    "Y = []\n",
    "\n",
    "x = 2\n",
    "step = 0.8\n",
    "f_change = f(x)\n",
    "f_current = f(x)\n",
    "X.append(x)\n",
    "Y.append(f_current)\n",
    "while f_change > 1e-10:\n",
    "    x = x - step * h(x)\n",
    "    tmp = f(x)\n",
    "    f_change = np.abs(f_current - tmp)\n",
    "    f_current  = tmp\n",
    "    X.append(x)\n",
    "    Y.append(f_current)\n",
    "print (u\"最终结果为:\", (x, f_current))"
   ]
  },
  {
   "cell_type": "code",
   "execution_count": 18,
   "metadata": {
    "collapsed": true
   },
   "outputs": [],
   "source": [
    "fig = plt.figure()\n",
    "X2 = np.arange(-2.1, 2.15, 0.05)\n",
    "Y2 = X2 ** 2\n",
    "\n",
    "plt.plot(X2, Y2, '-', color='#666666', linewidth=2)\n",
    "plt.plot(X, Y, 'bo--')\n",
    "plt.title(u'$y=x^2$函数求解最小值，最终解为:x=%.2f,y=%.2f' \n",
    "          % (x, f_current))\n",
    "plt.show()"
   ]
  },
  {
   "cell_type": "code",
   "execution_count": 11,
   "metadata": {
    "collapsed": true
   },
   "outputs": [],
   "source": [
    "def f(n):\n",
    "    s = 0.0\n",
    "    for i in range(n):\n",
    "        k = i\n",
    "        for j in range(i):\n",
    "            if j != 0:\n",
    "                k *= j\n",
    "        \n",
    "        if i == 0:\n",
    "            k = 1\n",
    "        s += 1.0 / k\n",
    "    return s\n",
    "\n",
    "x = np.arange(1, 100, 2)\n",
    "y = [f(i) for i in x]\n",
    "plt.plot(x, y, 'bo-', linewidth=1)\n",
    "plt.plot([-2, 100], [np.e, np.e], 'r--', linewidth=1)\n",
    "plt.xlim(-2, 100)\n",
    "plt.show()"
   ]
  },
  {
   "cell_type": "code",
   "execution_count": 20,
   "metadata": {},
   "outputs": [
    {
     "data": {
      "text/plain": [
       "2.7182818284590455"
      ]
     },
     "execution_count": 20,
     "metadata": {},
     "output_type": "execute_result"
    }
   ],
   "source": [
    "f(100)"
   ]
  },
  {
   "cell_type": "code",
   "execution_count": null,
   "metadata": {
    "collapsed": true
   },
   "outputs": [],
   "source": []
  },
  {
   "cell_type": "code",
   "execution_count": null,
   "metadata": {
    "collapsed": true
   },
   "outputs": [],
   "source": []
  }
 ],
 "metadata": {
  "anaconda-cloud": {},
  "kernelspec": {
   "display_name": "Python 3",
   "language": "python",
   "name": "python3"
  },
  "language_info": {
   "codemirror_mode": {
    "name": "ipython",
    "version": 3
   },
   "file_extension": ".py",
   "mimetype": "text/x-python",
   "name": "python",
   "nbconvert_exporter": "python",
   "pygments_lexer": "ipython3",
   "version": "3.6.2"
  }
 },
 "nbformat": 4,
 "nbformat_minor": 2
}
